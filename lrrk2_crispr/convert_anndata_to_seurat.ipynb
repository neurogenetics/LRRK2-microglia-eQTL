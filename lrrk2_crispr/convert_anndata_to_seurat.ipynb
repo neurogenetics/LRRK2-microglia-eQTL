{
 "cells": [
  {
   "cell_type": "markdown",
   "id": "04eaae44",
   "metadata": {},
   "source": [
    "## Notebook to convert AnnData to Suerat"
   ]
  },
  {
   "cell_type": "code",
   "execution_count": 1,
   "id": "e6274a30",
   "metadata": {},
   "outputs": [
    {
     "data": {
      "text/html": [
       "'Thu Jan 13 18:54:30 2022'"
      ],
      "text/latex": [
       "'Thu Jan 13 18:54:30 2022'"
      ],
      "text/markdown": [
       "'Thu Jan 13 18:54:30 2022'"
      ],
      "text/plain": [
       "[1] \"Thu Jan 13 18:54:30 2022\""
      ]
     },
     "metadata": {},
     "output_type": "display_data"
    }
   ],
   "source": [
    "date()"
   ]
  },
  {
   "cell_type": "markdown",
   "id": "26d7dd17",
   "metadata": {},
   "source": [
    "## try using this method\n",
    "(https://satijalab.org/seurat/archive/v2.4/conversion_vignette.html)"
   ]
  },
  {
   "cell_type": "markdown",
   "id": "84504b71",
   "metadata": {},
   "source": [
    "#### load libraries and set notebook variables for scripts"
   ]
  },
  {
   "cell_type": "code",
   "execution_count": 2,
   "id": "9d77f5ee",
   "metadata": {},
   "outputs": [
    {
     "name": "stderr",
     "output_type": "stream",
     "text": [
      "Attaching SeuratObject\n",
      "\n",
      "Registered S3 method overwritten by 'cli':\n",
      "  method     from         \n",
      "  print.boxx spatstat.geom\n",
      "\n",
      "Registered S3 method overwritten by 'SeuratDisk':\n",
      "  method            from  \n",
      "  as.sparse.H5Group Seurat\n",
      "\n",
      "Warning message in if (is.na(desc)) {:\n",
      "“the condition has length > 1 and only the first element will be used”\n",
      "Warning message in if (is.na(desc)) {:\n",
      "“the condition has length > 1 and only the first element will be used”\n",
      "Warning message in if (is.na(desc)) {:\n",
      "“the condition has length > 1 and only the first element will be used”\n",
      "Warning message in if (is.na(desc)) {:\n",
      "“the condition has length > 1 and only the first element will be used”\n",
      "Warning message in if (is.na(desc)) {:\n",
      "“the condition has length > 1 and only the first element will be used”\n",
      "Warning message in if (is.na(desc)) {:\n",
      "“the condition has length > 1 and only the first element will be used”\n",
      "Warning message in if (is.na(desc)) {:\n",
      "“the condition has length > 1 and only the first element will be used”\n",
      "Warning message in if (is.na(desc)) {:\n",
      "“the condition has length > 1 and only the first element will be used”\n",
      "Warning message in if (is.na(desc)) {:\n",
      "“the condition has length > 1 and only the first element will be used”\n",
      "Warning message in if (is.na(desc)) {:\n",
      "“the condition has length > 1 and only the first element will be used”\n",
      "Warning message in if (is.na(desc)) {:\n",
      "“the condition has length > 1 and only the first element will be used”\n",
      "Warning message in if (is.na(desc)) {:\n",
      "“the condition has length > 1 and only the first element will be used”\n"
     ]
    }
   ],
   "source": [
    "library(Seurat)\n",
    "library(SeuratDisk)\n",
    "library(SeuratData)"
   ]
  },
  {
   "cell_type": "code",
   "execution_count": 3,
   "id": "c604855c",
   "metadata": {},
   "outputs": [],
   "source": [
    "wrk_dir = \"/labshare/LNG_Single_cell_data/Cookson_scCRISPRi_iMicroglia/modified_pipe_from_10x\"\n",
    "# in_file = paste(wrk_dir, \"lrrk2_crispr.scanpy_light.h5ad\", sep='/')\n",
    "# temp_file = paste(wrk_dir, \"lrrk2_crispr.scanpy_light.h5seurat\", sep='/')\n",
    "# out_file = paste(wrk_dir, \"lrrk2_crispr.scanpy_light.RDS\", sep='/')\n",
    "in_file = paste(wrk_dir, \"lrrk2_crispr.scanpy.h5ad\", sep='/')\n",
    "temp_file = paste(wrk_dir, \"lrrk2_crispr.scanpy.h5seurat\", sep='/')\n",
    "out_file = paste(wrk_dir, \"lrrk2_crispr.scanpy.RDS\", sep='/')"
   ]
  },
  {
   "cell_type": "markdown",
   "id": "b4618cd1",
   "metadata": {},
   "source": [
    "#### do the conversion"
   ]
  },
  {
   "cell_type": "code",
   "execution_count": 4,
   "id": "22464c2d",
   "metadata": {},
   "outputs": [
    {
     "name": "stderr",
     "output_type": "stream",
     "text": [
      "Warning message:\n",
      "“Unknown file type: h5ad”\n",
      "Warning message:\n",
      "“'assay' not set, setting to 'RNA'”\n",
      "Creating h5Seurat file for version 3.1.5.9900\n",
      "\n",
      "Adding X as scale.data\n",
      "\n",
      "Adding raw/X as data\n",
      "\n",
      "Adding raw/X as counts\n",
      "\n",
      "Adding meta.features from raw/var\n",
      "\n",
      "Merging dispersions from scaled feature-level metadata\n",
      "\n",
      "Merging dispersions_norm from scaled feature-level metadata\n",
      "\n",
      "Merging feature_types from scaled feature-level metadata\n",
      "\n",
      "Merging gene_ids from scaled feature-level metadata\n",
      "\n",
      "Merging genome from scaled feature-level metadata\n",
      "\n",
      "Merging highly_variable from scaled feature-level metadata\n",
      "\n",
      "Adding mean from scaled feature-level metadata\n",
      "\n",
      "Merging mean_counts from scaled feature-level metadata\n",
      "\n",
      "Merging means from scaled feature-level metadata\n",
      "\n",
      "Merging mt from scaled feature-level metadata\n",
      "\n",
      "Merging n_cells_by_counts from scaled feature-level metadata\n",
      "\n",
      "Merging pct_dropout_by_counts from scaled feature-level metadata\n",
      "\n",
      "Adding std from scaled feature-level metadata\n",
      "\n",
      "Merging total_counts from scaled feature-level metadata\n",
      "\n",
      "Adding X_pca as cell embeddings for pca\n",
      "\n",
      "Adding X_umap as cell embeddings for umap\n",
      "\n",
      "Adding PCs as feature loadings fpr pca\n",
      "\n",
      "Adding miscellaneous information for pca\n",
      "\n",
      "Adding standard deviations for pca\n",
      "\n",
      "Adding miscellaneous information for umap\n",
      "\n",
      "Adding celltype_colors to miscellaneous data\n",
      "\n",
      "Adding hvg to miscellaneous data\n",
      "\n",
      "Adding leiden to miscellaneous data\n",
      "\n",
      "Adding leiden_colors to miscellaneous data\n",
      "\n",
      "Adding rank_genes_groups to miscellaneous data\n",
      "\n",
      "Adding target_colors to miscellaneous data\n",
      "\n"
     ]
    }
   ],
   "source": [
    "Convert(in_file, dest = \"h5seurat\", overwrite = TRUE)"
   ]
  },
  {
   "cell_type": "markdown",
   "id": "b578b0d4",
   "metadata": {},
   "source": [
    "#### read in the converted object"
   ]
  },
  {
   "cell_type": "code",
   "execution_count": 5,
   "id": "05563cdf",
   "metadata": {},
   "outputs": [
    {
     "name": "stderr",
     "output_type": "stream",
     "text": [
      "Validating h5Seurat file\n",
      "\n",
      "Initializing RNA with data\n",
      "\n",
      "Adding counts for RNA\n",
      "\n",
      "Adding scale.data for RNA\n",
      "\n",
      "Adding feature-level metadata for RNA\n",
      "\n",
      "Adding reduction pca\n",
      "\n",
      "Adding cell embeddings for pca\n",
      "\n",
      "Adding feature loadings for pca\n",
      "\n",
      "Adding miscellaneous information for pca\n",
      "\n",
      "Adding reduction umap\n",
      "\n",
      "Adding cell embeddings for umap\n",
      "\n",
      "Adding miscellaneous information for umap\n",
      "\n",
      "Adding command information\n",
      "\n",
      "Adding cell-level metadata\n",
      "\n"
     ]
    },
    {
     "ename": "ERROR",
     "evalue": "Error: Too many values for levels provided\n",
     "output_type": "error",
     "traceback": [
      "Error: Too many values for levels provided\nTraceback:\n",
      "1. LoadH5Seurat(temp_file)",
      "2. LoadH5Seurat.character(temp_file)",
      "3. LoadH5Seurat(file = hfile, assays = assays, reductions = reductions, \n .     graphs = graphs, neighbors = neighbors, images = images, \n .     meta.data = meta.data, commands = commands, misc = misc, \n .     tools = tools, verbose = verbose, ...)",
      "4. LoadH5Seurat.h5Seurat(file = hfile, assays = assays, reductions = reductions, \n .     graphs = graphs, neighbors = neighbors, images = images, \n .     meta.data = meta.data, commands = commands, misc = misc, \n .     tools = tools, verbose = verbose, ...)",
      "5. as.Seurat(x = file, assays = assays, reductions = reductions, \n .     graphs = graphs, neighbors = neighbors, images = images, \n .     meta.data = meta.data, commands = commands, misc = misc, \n .     tools = tools, verbose = verbose, ...)",
      "6. as.Seurat.h5Seurat(x = file, assays = assays, reductions = reductions, \n .     graphs = graphs, neighbors = neighbors, images = images, \n .     meta.data = meta.data, commands = commands, misc = misc, \n .     tools = tools, verbose = verbose, ...)",
      "7. as.data.frame(x = x[[\"meta.data\"]], row.names = Cells(x = x))",
      "8. as.data.frame.H5Group(x = x[[\"meta.data\"]], row.names = Cells(x = x))",
      "9. as.factor(x = x[[i]])",
      "10. as.factor(x = x[[i]])",
      "11. stop(\"Too many values for levels provided\", call. = FALSE)"
     ]
    }
   ],
   "source": [
    "seurat_obj <- LoadH5Seurat(temp_file)"
   ]
  },
  {
   "cell_type": "code",
   "execution_count": 9,
   "id": "2f96731e",
   "metadata": {},
   "outputs": [
    {
     "ename": "ERROR",
     "evalue": "Error in eval(expr, envir, enclos): object 'seurat_obj' not found\n",
     "output_type": "error",
     "traceback": [
      "Error in eval(expr, envir, enclos): object 'seurat_obj' not found\nTraceback:\n"
     ]
    }
   ],
   "source": [
    "class(seurat_obj)"
   ]
  },
  {
   "cell_type": "code",
   "execution_count": null,
   "id": "fc6b94c6",
   "metadata": {},
   "outputs": [],
   "source": [
    "suerat_obj"
   ]
  },
  {
   "cell_type": "markdown",
   "id": "a52c2ef0",
   "metadata": {},
   "source": [
    "#### save the Seurat object to RDS file"
   ]
  },
  {
   "cell_type": "markdown",
   "id": "9e45199b",
   "metadata": {},
   "source": [
    "#### read in the created rds file, should contain a Seurat object"
   ]
  },
  {
   "cell_type": "code",
   "execution_count": 7,
   "id": "f20a9f24",
   "metadata": {},
   "outputs": [
    {
     "data": {
      "text/plain": [
       "An object of class Seurat \n",
       "551811 features across 139659 samples within 2 assays \n",
       "Active assay: RNA (92316 features, 0 variable features)\n",
       " 1 other assay present: ATAC\n",
       " 3 dimensional reductions calculated: lsi, umap, harmony"
      ]
     },
     "metadata": {},
     "output_type": "display_data"
    }
   ],
   "source": [
    "thisRDS <- readRDS(out_file)"
   ]
  },
  {
   "cell_type": "code",
   "execution_count": null,
   "id": "fbca5e20",
   "metadata": {},
   "outputs": [],
   "source": [
    "thisRDS"
   ]
  },
  {
   "cell_type": "code",
   "execution_count": 9,
   "id": "274d7b3c",
   "metadata": {},
   "outputs": [
    {
     "data": {
      "text/html": [
       "<span style=white-space:pre-wrap>'Wed Dec  8 12:45:07 2021'</span>"
      ],
      "text/latex": [
       "'Wed Dec  8 12:45:07 2021'"
      ],
      "text/markdown": [
       "<span style=white-space:pre-wrap>'Wed Dec  8 12:45:07 2021'</span>"
      ],
      "text/plain": [
       "[1] \"Wed Dec  8 12:45:07 2021\""
      ]
     },
     "metadata": {},
     "output_type": "display_data"
    }
   ],
   "source": [
    "date()"
   ]
  },
  {
   "cell_type": "markdown",
   "id": "b6dd4da6",
   "metadata": {},
   "source": [
    "## using the [sceasy](https://github.com/cellgeni/sceasy) R library\n",
    "\n",
    "sceasy keep blowing up even with small data"
   ]
  },
  {
   "cell_type": "code",
   "execution_count": 2,
   "id": "a8e3df10",
   "metadata": {},
   "outputs": [],
   "source": [
    "# # load libraries and set notebook variables for scripts\n",
    "# library(sceasy)\n",
    "# library(reticulate)\n",
    "\n",
    "# wrk_dir = \"/labshare/LNG_Single_cell_data/Cookson_scCRISPRi_iMicroglia/modified_pipe_from_10x\"\n",
    "# in_file = paste(wrk_dir, \"lrrk2_crispr.scanpy_light.h5ad\", sep='/')\n",
    "# out_file = paste(wrk_dir, \"lrrk2_crispr.scanpy_light.RDS\", sep='/')\n",
    "\n",
    "# # here using sceasy to convert AnnData to Seurat so load the necessary libraries\n",
    "# sceasy::convertFormat(in_file, from=\"anndata\", to=\"seurat\", outFile=out_file)\n",
    "\n",
    "# # read in the created rds file, should contain a Seurat object\n",
    "# scatRDS <- readRDS(out_file)\n",
    "# scatRDS"
   ]
  }
 ],
 "metadata": {
  "kernelspec": {
   "display_name": "R",
   "language": "R",
   "name": "ir"
  },
  "language_info": {
   "codemirror_mode": "r",
   "file_extension": ".r",
   "mimetype": "text/x-r-source",
   "name": "R",
   "pygments_lexer": "r",
   "version": "4.1.1"
  }
 },
 "nbformat": 4,
 "nbformat_minor": 5
}
